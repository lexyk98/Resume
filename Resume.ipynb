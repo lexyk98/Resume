{
 "cells": [
  {
   "cell_type": "markdown",
   "metadata": {},
   "source": [
    "\n",
    "<h1><center><span style='font-family:font_family name'> Lexy Kanhai  </span></center></h1>"
   ]
  },
  {
   "cell_type": "markdown",
   "metadata": {},
   "source": [
    "\n",
    "<h2><center>Aspiring Data Scientist</center></h2>"
   ]
  },
  {
   "cell_type": "markdown",
   "metadata": {},
   "source": [
    "## <font color=\"Grey\">__About me__ </font>"
   ]
  },
  {
   "cell_type": "markdown",
   "metadata": {},
   "source": [
    "### <span style='font-family:Times New roman'>\n",
    "My name is Lexy Kanhai. \n",
    "\n",
    "I have one year of experience working as a Biomedical Engineer at Trius Medical Sales and Services, located in Trinidad and Tobago.            \n",
    "\n",
    "My role began during the peak of the pandemic, where I learned to work in a fast-paced environment, and under pressure.  \n",
    "During this time, my responsibilities were not limited to the biomedical sector, but also the entire engineering department.      \n",
    "\n",
    "This included scheduling and maintaining all engineering jobs while pursuing my role as a Biomedical Engineer. \n",
    "This strengthened my leadership and managerial skills, which allows me to work both in a team and independently. \n",
    "Throughout 2023, I used the time to transition from an engineering perspective to a data science perspective.  \n",
    "Technology is rapidly advancing, with endless data to be encapsulated and used to solve problems. \n",
    "\n",
    "I would like the chance to apply myself in the Data Science field. \n",
    "A little insight about myself is that I resigned from my previous role as a Biomedical Engineer and took the opportunity to move to the US. \n",
    "\n",
    "Prior to the termination of my previous role, I volunteered to train the present Biomed at the company and ensure that my duties were fulfilled. I am currently a store manager at a tech store, which has greatly improved my customer service, communication, and organizational skills.  \n",
    "\n",
    "Even though my background is Biomedical Technology, I have had to be analytical and apply critical thinking throughout my past and present roles. I think this is the key to assess data science projects. \n",
    "Most of all, I am determined to be the best that I can be in favor of the company.     \n",
    "</span>"
   ]
  },
  {
   "cell_type": "markdown",
   "metadata": {},
   "source": [
    "***\n",
    "<h2><center><font color=\"Grey\">Work Experience</font></center></h2>\n",
    "\n",
    "##### Store Manager in Tech store - Techy Port St. Lucie  <br> *2023 - presently*\n",
    "\n",
    "- Establish good customer service and relations.\n",
    "- Record and report all documentation of repairs to customers.\n",
    "- Ensure that customers are constantly informed about the procedure and cost of repairs.\n",
    "- Extensive understanding of using the POS system.\n",
    "- To schedule and ensure that service jobs are performed in a timely manner.\n",
    "- Teamwork and collaboration with neighboring businesses.\n",
    "- Manage all inventory including devices and parts.\n",
    "- Troubleshoot and failure analysis of electronic devices.\n",
    "\n",
    "##### Biomedical Engineering - Trius Medical Sales and Services <br> *2021 - 2022*\n",
    "- Troubleshooting, testing, and repairing medical equipment. \n",
    "- Presenting and reporting the physiological interactions of medical equipment with the human body to doctors and other biomedical engineers. \n",
    "- Formatting methodologies, risk assessments, and reports that accompany servicing contracts of healthcare facilities and equipment. \n",
    "- Management of all biomedical inventory. \n",
    "- Management of all servicing jobs and procurement of medical equipment. \n",
    "\n",
    "##### GitHub Projects<br>*2023*\n",
    "> https://github.com/lexyk98/First_Assignment/blob/main/First%20Assignment.ipynb\n",
    "\n",
    "***\n",
    "---\n",
    "---\n"
   ]
  },
  {
   "cell_type": "markdown",
   "metadata": {},
   "source": [
    "<h2><center><font color=\"Grey\">Education</font></center></h2>\n",
    "\n",
    "#### UC Davis SQL for Data Science<br>*2023*\n",
    " >https://coursera.org/verify/Y9T3HTWH9LVE*\n",
    "\n",
    " \n",
    "\n",
    "#### IBM Data Science Professional Certificate:<br>*2023*\n",
    "\n",
    " > *What is Data Science?*  \n",
    " > https://coursera.org/verify/Q3SC3HFWGFQY<br>\n",
    " \n",
    " > *Tools for Data Science*<br>\n",
    " > *https://coursera.org/verify/WX6EX2H5CRH9*\n",
    "\n",
    " > *Data Science Methodology*<br>\n",
    " > *https://coursera.org/verify/Y9724HPCU2WL*\n",
    "\n",
    " > *Python for Data Science, AI & Development*<br>\n",
    " > *https://coursera.org/verify/WNJLA5VZD3F3*\n",
    "\n",
    " > *Python Project for Data Science*<br>\n",
    " > *https://coursera.org/verify/BZNMU9GXCE46*\n",
    "\n",
    " > *Databases and SQL for Data Science with Python*<br>\n",
    " > *https://coursera.org/verify/KCLF7HWTMYV4*\n",
    "\n",
    " > *Data Analysis with Python*\n",
    " > *https://coursera.org/verify/ZY2PM6SUH72U*\n",
    "\n",
    "#### *BSc.* Biomedical Technology - The University of The West Indies <br> *2017 - 2020*\n",
    "<div class=\"alert alert-block alert-success\">\n",
    "<b>U.S Equivalency from regionally accredited institution:</b>  Bachelor’s Degree (Evaluated by World Education Services, WES)\n",
    "</div>\n"
   ]
  },
  {
   "cell_type": "markdown",
   "metadata": {},
   "source": [
    "***\n",
    "---\n",
    "---"
   ]
  },
  {
   "cell_type": "markdown",
   "metadata": {},
   "source": [
    "<ins>\n",
    " <h3><font color = \"Grey\"><center>High School Certifications</font>"
   ]
  },
  {
   "cell_type": "markdown",
   "metadata": {},
   "source": [
    "#### Certificate of Participation and First place award - Secondary Schools “Design and Build”\n",
    "> Competition for the Institution of Structural Engineers. Caribbean Regional Group.\n",
    "#### *2016*\n",
    "\n",
    "#### Certificate of Participation - Canadian Mathematics Caylay Contest. CEMC\n",
    "> University of Waterloo, MC 6254\n",
    "#### *2015*\n",
    "\n",
    "#### Certificate of Distinction - Australian Mathematics Competition, Intermediate Division, Grade 9.\n",
    "> Australian Mathematics Trust, University of Canberra, Canberra ACT 2601\n",
    "#### *2014*\n",
    "\n",
    "#### Certificate of Participation - Gauss Mathematics Contest for Grade 8 students. CEMC\n",
    "> University of Waterloo, MC 6254\n",
    "#### *2013*\n",
    "\n",
    "#### Certificate of Participation - Australian Mathematics Competition for Grade 7 Australian Mathematics Trust, University of Canberra, Canberra ACT 2601 \n",
    "#### *2012*\n",
    "\n",
    "#### Certificate of Participation - Gauss Mathematics Contest for Grade 7 students. CEMC\n",
    "> University of Waterloo, MC 6254\n",
    "#### *2012*\n",
    "\n",
    "#### Certificate of Participation - Ministry of Foreign Affairs and Communications, Republic of\n",
    "> Trinidad and Tobago. “Bridging Borders through Art”.\n",
    "#### *2012*\n",
    "\n",
    "***\n",
    "## [My LinkedIn link ](https://www.linkedin.com/in/lexy-kanhai-8ab2711a0/)"
   ]
  }
 ],
 "metadata": {
  "kernelspec": {
   "display_name": "Python 3",
   "language": "python",
   "name": "python3"
  },
  "language_info": {
   "codemirror_mode": {
    "name": "ipython",
    "version": 3
   },
   "file_extension": ".py",
   "mimetype": "text/x-python",
   "name": "python",
   "nbconvert_exporter": "python",
   "pygments_lexer": "ipython3",
   "version": "3.9.6"
  },
  "orig_nbformat": 4
 },
 "nbformat": 4,
 "nbformat_minor": 2
}
